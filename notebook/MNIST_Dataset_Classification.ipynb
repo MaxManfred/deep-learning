{
  "nbformat": 4,
  "nbformat_minor": 0,
  "metadata": {
    "colab": {
      "name": "Copy of MNIST_Dataset_Classification.ipynb",
      "version": "0.3.2",
      "provenance": [],
      "collapsed_sections": [],
      "include_colab_link": true
    },
    "kernelspec": {
      "name": "python3",
      "display_name": "Python 3"
    },
    "accelerator": "GPU"
  },
  "cells": [
    {
      "cell_type": "markdown",
      "metadata": {
        "id": "view-in-github",
        "colab_type": "text"
      },
      "source": [
        "<a href=\"https://colab.research.google.com/github/MaxManfred/deep-learning/blob/master/notebook/MNIST_Dataset_Classification.ipynb\" target=\"_parent\"><img src=\"https://colab.research.google.com/assets/colab-badge.svg\" alt=\"Open In Colab\"/></a>"
      ]
    },
    {
      "metadata": {
        "id": "peYY-Nit9bUS",
        "colab_type": "text"
      },
      "cell_type": "markdown",
      "source": [
        "A sample Jupyter notebook that shows how to use Keras to classify handwritten digits.\n",
        "The problem we’re trying to solve here is to \n",
        "\n",
        "> **classify grayscale images of handwritten digits (28 × 28 pixels) into their 10 categories (0 through 9)**\n",
        "\n",
        "We’ll use the MNIST dataset, a classic in the machine-learning community, which has been around almost as long as the field itself and has been intensively studied. \n",
        "\n",
        "It’s a set of 60,000 training images, plus 10,000 test images, assembled by the National Institute of Standards and Technology (the NIST in MNIST) in the 1980s."
      ]
    },
    {
      "metadata": {
        "id": "SsQh58_80G1V",
        "colab_type": "code",
        "colab": {}
      },
      "cell_type": "code",
      "source": [
        "# import needed libraries\n",
        "from keras.datasets import mnist\n",
        "from keras.layers import Dense\n",
        "from keras.models import Sequential\n",
        "from keras.utils import to_categorical"
      ],
      "execution_count": 0,
      "outputs": []
    },
    {
      "metadata": {
        "id": "oCBL9jud0V-V",
        "colab_type": "code",
        "outputId": "1da21269-9907-4cd1-c40d-f8baac9b0786",
        "colab": {
          "base_uri": "https://localhost:8080/",
          "height": 51
        }
      },
      "cell_type": "code",
      "source": [
        "# load MNIST data set in Keras\n",
        "(training_samples, training_labels), (test_samples, test_labels) = mnist.load_data()"
      ],
      "execution_count": 0,
      "outputs": [
        {
          "output_type": "stream",
          "text": [
            "Downloading data from https://s3.amazonaws.com/img-datasets/mnist.npz\n",
            "11493376/11490434 [==============================] - 1s 0us/step\n"
          ],
          "name": "stdout"
        }
      ]
    },
    {
      "metadata": {
        "id": "9oDW4nRm0kp1",
        "colab_type": "code",
        "outputId": "1a160836-e481-463c-aa1c-19bd1c0790a0",
        "colab": {
          "base_uri": "https://localhost:8080/",
          "height": 51
        }
      },
      "cell_type": "code",
      "source": [
        "# print input and output data shapes for training set\n",
        "print('Training samples shape', training_samples.shape)\n",
        "print('Training labels shape', training_labels.shape)"
      ],
      "execution_count": 0,
      "outputs": [
        {
          "output_type": "stream",
          "text": [
            "Training samples shape (60000, 28, 28)\n",
            "Training labels shape (60000,)\n"
          ],
          "name": "stdout"
        }
      ]
    },
    {
      "metadata": {
        "id": "K-CjGY0W1MJL",
        "colab_type": "code",
        "outputId": "bfcdf1b7-78aa-43d1-957c-62a389603ca6",
        "colab": {
          "base_uri": "https://localhost:8080/",
          "height": 51
        }
      },
      "cell_type": "code",
      "source": [
        "# print input and output data shapes for test set\n",
        "print('Test samples shape', test_samples.shape)\n",
        "print('Test label shape', test_labels.shape)"
      ],
      "execution_count": 0,
      "outputs": [
        {
          "output_type": "stream",
          "text": [
            "Test samples shape (10000, 28, 28)\n",
            "Test label shape (10000,)\n"
          ],
          "name": "stdout"
        }
      ]
    },
    {
      "metadata": {
        "id": "rmnJOi_Z2Gae",
        "colab_type": "code",
        "colab": {}
      },
      "cell_type": "code",
      "source": [
        "# reshape training and test samples for creating 1D feature vectors in order to \n",
        "# prepare them for the neural net architecture\n",
        "# also normalize values in the range [0, 255]\n",
        "training_samples = training_samples.reshape((60000, 28 * 28))\n",
        "training_samples = training_samples.astype('float32') / 255\n",
        "\n",
        "test_samples = test_samples.reshape((10000, 28 * 28))\n",
        "test_samples = test_samples.astype('float32') / 255"
      ],
      "execution_count": 0,
      "outputs": []
    },
    {
      "metadata": {
        "id": "79cUkk5f2xGj",
        "colab_type": "code",
        "colab": {}
      },
      "cell_type": "code",
      "source": [
        "# one-hot-encode training and test labels\n",
        "training_labels = to_categorical(training_labels)\n",
        "test_labels = to_categorical(test_labels)"
      ],
      "execution_count": 0,
      "outputs": []
    },
    {
      "metadata": {
        "id": "8PiHQmxp1aaI",
        "colab_type": "code",
        "colab": {}
      },
      "cell_type": "code",
      "source": [
        "# create deep net with two dense layers\n",
        "# notice that input shape is (28 * 28,), so we need to unroll our images from \n",
        "# MNIST\n",
        "neural_network = Sequential()\n",
        "neural_network.add(Dense(512, activation='relu', input_shape=(28 * 28,)))\n",
        "neural_network.add(Dense(10, activation='softmax'))"
      ],
      "execution_count": 0,
      "outputs": []
    },
    {
      "metadata": {
        "id": "mIFyd1iE262P",
        "colab_type": "code",
        "colab": {}
      },
      "cell_type": "code",
      "source": [
        "# specify objective function, optimizer and metrics\n",
        "neural_network.compile(optimizer='rmsprop', loss='categorical_crossentropy', metrics=['accuracy'])"
      ],
      "execution_count": 0,
      "outputs": []
    },
    {
      "metadata": {
        "id": "gYRkgiX33CeP",
        "colab_type": "code",
        "outputId": "09d18968-a6c3-4b48-9bb7-6cc7065f02ec",
        "colab": {
          "base_uri": "https://localhost:8080/",
          "height": 204
        }
      },
      "cell_type": "code",
      "source": [
        "# train the network\n",
        "neural_network.fit(training_samples, training_labels, epochs=5, batch_size=128)"
      ],
      "execution_count": 0,
      "outputs": [
        {
          "output_type": "stream",
          "text": [
            "Epoch 1/5\n",
            "60000/60000 [==============================] - 5s 80us/step - loss: 0.2529 - acc: 0.9264\n",
            "Epoch 2/5\n",
            "60000/60000 [==============================] - 3s 45us/step - loss: 0.1031 - acc: 0.9684\n",
            "Epoch 3/5\n",
            "60000/60000 [==============================] - 3s 44us/step - loss: 0.0677 - acc: 0.9795\n",
            "Epoch 4/5\n",
            "60000/60000 [==============================] - 3s 46us/step - loss: 0.0497 - acc: 0.9849\n",
            "Epoch 5/5\n",
            "60000/60000 [==============================] - 3s 48us/step - loss: 0.0365 - acc: 0.9891\n"
          ],
          "name": "stdout"
        },
        {
          "output_type": "execute_result",
          "data": {
            "text/plain": [
              "<keras.callbacks.History at 0x7fa5f535e128>"
            ]
          },
          "metadata": {
            "tags": []
          },
          "execution_count": 10
        }
      ]
    },
    {
      "metadata": {
        "id": "heqc3GYy3Riu",
        "colab_type": "code",
        "outputId": "52143846-c7c7-4fd2-8604-842d164d015b",
        "colab": {
          "base_uri": "https://localhost:8080/",
          "height": 51
        }
      },
      "cell_type": "code",
      "source": [
        "# evaluate network accuracy on test data\n",
        "test_loss, test_accuracy = neural_network.evaluate(test_samples, test_labels)\n",
        "print('Test loss: {} - Test accuracy: {}'.format(test_loss, test_accuracy))"
      ],
      "execution_count": 0,
      "outputs": [
        {
          "output_type": "stream",
          "text": [
            "10000/10000 [==============================] - 1s 60us/step\n",
            "Test loss: 0.06970728429199662 - Test accuracy: 0.9795\n"
          ],
          "name": "stdout"
        }
      ]
    }
  ]
}