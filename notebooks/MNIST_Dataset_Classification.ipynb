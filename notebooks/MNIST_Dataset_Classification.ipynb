{
  "nbformat": 4,
  "nbformat_minor": 0,
  "metadata": {
    "colab": {
      "name": "MNIST_Dataset_Classification.ipynb",
      "version": "0.3.2",
      "provenance": [],
      "collapsed_sections": [],
      "include_colab_link": true
    },
    "kernelspec": {
      "name": "python3",
      "display_name": "Python 3"
    },
    "accelerator": "GPU"
  },
  "cells": [
    {
      "cell_type": "markdown",
      "metadata": {
        "id": "view-in-github",
        "colab_type": "text"
      },
      "source": [
        "<a href=\"https://colab.research.google.com/github/MaxManfred/deep-learning/blob/master/notebooks/MNIST_Dataset_Classification.ipynb\" target=\"_parent\"><img src=\"https://colab.research.google.com/assets/colab-badge.svg\" alt=\"Open In Colab\"/></a>"
      ]
    },
    {
      "metadata": {
        "id": "SsQh58_80G1V",
        "colab_type": "code",
        "outputId": "3cafb627-8a15-40bb-db30-345f88ac8ab6",
        "colab": {
          "base_uri": "https://localhost:8080/",
          "height": 34
        }
      },
      "cell_type": "code",
      "source": [
        "# import needed libraries\n",
        "from keras.datasets import mnist\n",
        "from keras.layers import Dense\n",
        "from keras.models import Sequential\n",
        "from keras.utils import to_categorical"
      ],
      "execution_count": 0,
      "outputs": [
        {
          "output_type": "stream",
          "text": [
            "Using TensorFlow backend.\n"
          ],
          "name": "stderr"
        }
      ]
    },
    {
      "metadata": {
        "id": "oCBL9jud0V-V",
        "colab_type": "code",
        "outputId": "fcfe068b-68b1-4ee2-ac5d-7b30c207f73d",
        "colab": {
          "base_uri": "https://localhost:8080/",
          "height": 51
        }
      },
      "cell_type": "code",
      "source": [
        "# load MNIST data set in Keras\n",
        "(training_samples, training_labels), (test_samples, test_labels) = mnist.load_data()"
      ],
      "execution_count": 0,
      "outputs": [
        {
          "output_type": "stream",
          "text": [
            "Downloading data from https://s3.amazonaws.com/img-datasets/mnist.npz\n",
            "11493376/11490434 [==============================] - 2s 0us/step\n"
          ],
          "name": "stdout"
        }
      ]
    },
    {
      "metadata": {
        "id": "9oDW4nRm0kp1",
        "colab_type": "code",
        "outputId": "9a5826c0-a11b-492e-8b4f-90215da7cd42",
        "colab": {
          "base_uri": "https://localhost:8080/",
          "height": 51
        }
      },
      "cell_type": "code",
      "source": [
        "# print input and output data shapes for training set\n",
        "print('Training samples shape', training_samples.shape)\n",
        "print('Training labels shape', training_labels.shape)"
      ],
      "execution_count": 0,
      "outputs": [
        {
          "output_type": "stream",
          "text": [
            "Training samples shape (60000, 28, 28)\n",
            "Training labels shape (60000,)\n"
          ],
          "name": "stdout"
        }
      ]
    },
    {
      "metadata": {
        "id": "K-CjGY0W1MJL",
        "colab_type": "code",
        "outputId": "4ba827f3-1877-4a33-ec9e-32d941fad6e3",
        "colab": {
          "base_uri": "https://localhost:8080/",
          "height": 51
        }
      },
      "cell_type": "code",
      "source": [
        "# print input and output data shapes for test set\n",
        "print('Test samples shape', test_samples.shape)\n",
        "print('Test label shape', test_labels.shape)"
      ],
      "execution_count": 0,
      "outputs": [
        {
          "output_type": "stream",
          "text": [
            "Test samples shape (10000, 28, 28)\n",
            "Test label shape (10000,)\n"
          ],
          "name": "stdout"
        }
      ]
    },
    {
      "metadata": {
        "id": "rmnJOi_Z2Gae",
        "colab_type": "code",
        "colab": {}
      },
      "cell_type": "code",
      "source": [
        "# reshape training and test samples for creating 1D feature vectors in order to \n",
        "# prepare them for the neural net architecture\n",
        "# also normalize values in the range [0, 255]\n",
        "training_samples = training_samples.reshape((60000, 28 * 28))\n",
        "training_samples = training_samples.astype('float32') / 255\n",
        "\n",
        "test_samples = test_samples.reshape((10000, 28 * 28))\n",
        "test_samples = test_samples.astype('float32') / 255"
      ],
      "execution_count": 0,
      "outputs": []
    },
    {
      "metadata": {
        "id": "79cUkk5f2xGj",
        "colab_type": "code",
        "colab": {}
      },
      "cell_type": "code",
      "source": [
        "# one-hot-encode training and test labels\n",
        "training_labels = to_categorical(training_labels)\n",
        "test_labels = to_categorical(test_labels)"
      ],
      "execution_count": 0,
      "outputs": []
    },
    {
      "metadata": {
        "id": "8PiHQmxp1aaI",
        "colab_type": "code",
        "colab": {}
      },
      "cell_type": "code",
      "source": [
        "# create deep net with two dense layers\n",
        "# notice that input shape is (28 * 28,), so we need to unroll our images from \n",
        "# MNIST\n",
        "neural_network = Sequential()\n",
        "neural_network.add(Dense(512, activation='relu', input_shape=(28 * 28,)))\n",
        "neural_network.add(Dense(10, activation='softmax'))"
      ],
      "execution_count": 0,
      "outputs": []
    },
    {
      "metadata": {
        "id": "mIFyd1iE262P",
        "colab_type": "code",
        "colab": {}
      },
      "cell_type": "code",
      "source": [
        "# specify objective function, optimizer and metrics\n",
        "neural_network.compile(optimizer='rmsprop', loss='categorical_crossentropy', metrics=['accuracy'])"
      ],
      "execution_count": 0,
      "outputs": []
    },
    {
      "metadata": {
        "id": "gYRkgiX33CeP",
        "colab_type": "code",
        "outputId": "bfe193bc-dad2-4c92-858f-934d04ea80ea",
        "colab": {
          "base_uri": "https://localhost:8080/",
          "height": 204
        }
      },
      "cell_type": "code",
      "source": [
        "# train the network\n",
        "neural_network.fit(training_samples, training_labels, epochs=5, batch_size=128)"
      ],
      "execution_count": 0,
      "outputs": [
        {
          "output_type": "stream",
          "text": [
            "Epoch 1/5\n",
            "60000/60000 [==============================] - 4s 72us/step - loss: 0.2555 - acc: 0.9255\n",
            "Epoch 2/5\n",
            "60000/60000 [==============================] - 2s 38us/step - loss: 0.1039 - acc: 0.9690\n",
            "Epoch 3/5\n",
            "60000/60000 [==============================] - 2s 39us/step - loss: 0.0688 - acc: 0.9791\n",
            "Epoch 4/5\n",
            "60000/60000 [==============================] - 2s 39us/step - loss: 0.0499 - acc: 0.9849\n",
            "Epoch 5/5\n",
            "60000/60000 [==============================] - 2s 38us/step - loss: 0.0374 - acc: 0.9886\n"
          ],
          "name": "stdout"
        },
        {
          "output_type": "execute_result",
          "data": {
            "text/plain": [
              "<keras.callbacks.History at 0x7ff3f526c9b0>"
            ]
          },
          "metadata": {
            "tags": []
          },
          "execution_count": 13
        }
      ]
    },
    {
      "metadata": {
        "id": "heqc3GYy3Riu",
        "colab_type": "code",
        "outputId": "fb38c77b-80a6-45ad-803c-e7684c0973c3",
        "colab": {
          "base_uri": "https://localhost:8080/",
          "height": 51
        }
      },
      "cell_type": "code",
      "source": [
        "# evaluate network accuracy on test data\n",
        "test_loss, test_accuracy = neural_network.evaluate(test_samples, test_labels)\n",
        "print('Test loss: {} - Test accuracy: {}'.format(test_loss, test_accuracy))"
      ],
      "execution_count": 0,
      "outputs": [
        {
          "output_type": "stream",
          "text": [
            "10000/10000 [==============================] - 1s 51us/step\n",
            "Test loss: 0.06907418672806816 - Test accuracy: 0.9798\n"
          ],
          "name": "stdout"
        }
      ]
    },
    {
      "metadata": {
        "id": "W_jv8X_k3cbX",
        "colab_type": "code",
        "colab": {}
      },
      "cell_type": "code",
      "source": [
        ""
      ],
      "execution_count": 0,
      "outputs": []
    }
  ]
}