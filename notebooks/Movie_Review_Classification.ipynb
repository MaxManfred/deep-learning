{
  "nbformat": 4,
  "nbformat_minor": 0,
  "metadata": {
    "colab": {
      "name": "Movie_Review_Classification.ipynb",
      "version": "0.3.2",
      "provenance": [],
      "collapsed_sections": [],
      "include_colab_link": true
    },
    "kernelspec": {
      "name": "python3",
      "display_name": "Python 3"
    }
  },
  "cells": [
    {
      "cell_type": "markdown",
      "metadata": {
        "id": "view-in-github",
        "colab_type": "text"
      },
      "source": [
        "<a href=\"https://colab.research.google.com/github/MaxManfred/deep-learning/blob/master/notebooks/Movie_Review_Classification.ipynb\" target=\"_parent\"><img src=\"https://colab.research.google.com/assets/colab-badge.svg\" alt=\"Open In Colab\"/></a>"
      ]
    },
    {
      "metadata": {
        "id": "upKhrOl6BBia",
        "colab_type": "text"
      },
      "cell_type": "markdown",
      "source": [
        "**Two-class classification, or binary classification**, may be the most widely applied kind of machine-learning problem. In this example, you’ll learn to classify movie reviews as positive or negative, based on the text content of the reviews.\n",
        "\n",
        "You’ll work with the IMDB dataset: a set of 50,000 highly polarized reviews from the Internet Movie Database. \n",
        "They’re split into 25,000 reviews for training and 25,000 reviews for testing, each set consisting of 50% negative and 50% positive reviews.\n",
        "Just like the MNIST dataset, the IMDB dataset comes packaged with Keras. It has already been preprocessed: the reviews (sequences of words) have been turned into sequences of integers, where each integer stands for a specific word in a dictionary."
      ]
    },
    {
      "metadata": {
        "id": "6J4XEEgC7VYq",
        "colab_type": "code",
        "colab": {
          "base_uri": "https://localhost:8080/",
          "height": 34
        },
        "outputId": "8214e765-26cf-4b8e-d4e3-4d6593d1d53e"
      },
      "cell_type": "code",
      "source": [
        "# import needed libraries\n",
        "from keras.datasets import imdb"
      ],
      "execution_count": 1,
      "outputs": [
        {
          "output_type": "stream",
          "text": [
            "Using TensorFlow backend.\n"
          ],
          "name": "stderr"
        }
      ]
    },
    {
      "metadata": {
        "id": "b0YVdQstBsvf",
        "colab_type": "code",
        "colab": {
          "base_uri": "https://localhost:8080/",
          "height": 51
        },
        "outputId": "72212ae6-0552-4749-b403-ee883387d170"
      },
      "cell_type": "code",
      "source": [
        "# load IMDB data set in Keras\n",
        "# The argument num_words=10000 means you’ll only keep the top 10,000 most \n",
        "# frequently occurring words in the training data. Rare words will be discarded. \n",
        "# This allows you to work with vector data of manageable size.\n",
        "# The variables train_data and test_data are lists of reviews; each review is a \n",
        "# list of word indices (encoding a sequence of words). \n",
        "# train_labels and test_labels are lists of 0s and 1s, where 0 stands for \n",
        "# negative and 1 stands for positive:\n",
        "(training_samples, training_labels), (test_samples, test_labels) = imdb.load_data(num_words=10000)"
      ],
      "execution_count": 3,
      "outputs": [
        {
          "output_type": "stream",
          "text": [
            "Downloading data from https://s3.amazonaws.com/text-datasets/imdb.npz\n",
            "17465344/17464789 [==============================] - 0s 0us/step\n"
          ],
          "name": "stdout"
        }
      ]
    }
  ]
}