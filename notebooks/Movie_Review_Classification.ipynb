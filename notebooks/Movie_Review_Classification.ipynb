{
  "nbformat": 4,
  "nbformat_minor": 0,
  "metadata": {
    "colab": {
      "name": "Movie_Review_Classification.ipynb",
      "version": "0.3.2",
      "provenance": [],
      "collapsed_sections": [],
      "toc_visible": true,
      "include_colab_link": true
    },
    "kernelspec": {
      "name": "python3",
      "display_name": "Python 3"
    },
    "accelerator": "GPU"
  },
  "cells": [
    {
      "cell_type": "markdown",
      "metadata": {
        "id": "view-in-github",
        "colab_type": "text"
      },
      "source": [
        "<a href=\"https://colab.research.google.com/github/MaxManfred/deep-learning/blob/master/notebooks/Movie_Review_Classification.ipynb\" target=\"_parent\"><img src=\"https://colab.research.google.com/assets/colab-badge.svg\" alt=\"Open In Colab\"/></a>"
      ]
    },
    {
      "metadata": {
        "id": "vBcEqBKnZ3_D",
        "colab_type": "text"
      },
      "cell_type": "markdown",
      "source": [
        "# Indroduction"
      ]
    },
    {
      "metadata": {
        "id": "upKhrOl6BBia",
        "colab_type": "text"
      },
      "cell_type": "markdown",
      "source": [
        "**CLASSIFYING MOVIE REVIEWS: A BINARY CLASSIFICATION EXAMPLE**\n",
        "\n",
        "In this example, you’ll learn to classify movie reviews as positive or negative, based on the text content of the reviews.\n",
        "\n",
        "You’ll work with the IMDB dataset: a set of 50,000 highly polarized reviews from the Internet Movie Database. \n",
        "They’re split into 25,000 reviews for training and 25,000 reviews for testing, each set consisting of 50% negative and 50% positive reviews.\n",
        "\n",
        "Just like the MNIST dataset, the IMDB dataset comes packaged with Keras. It has already been preprocessed: the reviews (sequences of words) have been turned into sequences of integers, where each integer stands for a specific word in a dictionary."
      ]
    },
    {
      "metadata": {
        "id": "6J4XEEgC7VYq",
        "colab_type": "code",
        "colab": {}
      },
      "cell_type": "code",
      "source": [
        "# import needed libraries\n",
        "from keras.datasets import imdb\n",
        "from keras import models\n",
        "from keras import layers\n",
        "from keras import optimizers\n",
        "import numpy as np\n",
        "import matplotlib.pyplot as plt"
      ],
      "execution_count": 0,
      "outputs": []
    },
    {
      "metadata": {
        "id": "ZgEJN0N0aIlA",
        "colab_type": "text"
      },
      "cell_type": "markdown",
      "source": [
        "# Data preparation"
      ]
    },
    {
      "metadata": {
        "id": "Yurc-A-1-ENo",
        "colab_type": "text"
      },
      "cell_type": "markdown",
      "source": [
        "Load IMDB data set in Keras.\n",
        "\n",
        "The argument num_words=10000 means you’ll only keep the top 10,000 most  frequently occurring words in the training data. \n",
        "\n",
        "Rare words will be discarded. \n",
        "\n",
        "This allows you to work with vector data of manageable size.\n",
        "\n",
        "The variables train_data and test_data are lists of reviews; each review is a list of word indices (encoding a sequence of words). \n",
        "train_labels and test_labels are lists of 0s and 1s, where 0 stands for negative and 1 stands for positive: bold text"
      ]
    },
    {
      "metadata": {
        "id": "b0YVdQstBsvf",
        "colab_type": "code",
        "colab": {}
      },
      "cell_type": "code",
      "source": [
        "(training_samples, training_labels), (test_samples, test_labels) = imdb.load_data(num_words=10000)"
      ],
      "execution_count": 0,
      "outputs": []
    },
    {
      "metadata": {
        "id": "-kSrPvuS-uHx",
        "colab_type": "text"
      },
      "cell_type": "markdown",
      "source": [
        "We print the first sample review in the training set and its label.\n",
        "\n",
        "We extract word_index from IMDB: word_index is a dictionary mapping words to an integer index.\n",
        "\n",
        "We then create reverse_word_index which reverses word_index, mapping integer indices to words.\n",
        "\n",
        "Note that the indices are offset by 3 because 0, 1, and 2 are reserved indices for “padding,” “start of sequence,” and “unknown.”.\n",
        "\n",
        "Finally we print the decoded review."
      ]
    },
    {
      "metadata": {
        "id": "K9XFGivy7FhW",
        "colab_type": "code",
        "colab": {}
      },
      "cell_type": "code",
      "source": [
        "# Because you’re restricting yourself to the top 10,000 most frequent words, no \n",
        "# word index will exceed 10,000\n",
        "print('Highest index of selected terms in the reviews: ', \n",
        "      max( [max(review) for review in training_samples] ))\n",
        "\n",
        "# as an example, show a sample\n",
        "print('Training sample: ', training_samples[0])\n",
        "print('Training label: ', training_labels[0])\n",
        "\n",
        "word_index = imdb.get_word_index()\n",
        "reverse_word_index = dict([(value, key) for (key, value) in word_index.items()])\n",
        "decoded_review = ' '.join([reverse_word_index.get(i - 3, '?') + '(' + str(i - 3) + ')' for i in training_samples[0]])\n",
        "print('Decoded training sample: ', decoded_review)"
      ],
      "execution_count": 0,
      "outputs": []
    },
    {
      "metadata": {
        "id": "5XYB2cLY_U5c",
        "colab_type": "text"
      },
      "cell_type": "markdown",
      "source": [
        "You can’t feed lists of integers into a neural network. \n",
        "\n",
        "You have to turn your lists into tensors. \n",
        "\n",
        "One-hot encode your lists to turn them into vectors of 0s and 1s. \n",
        "\n",
        "This would mean, for instance, turning the sequence [3, 5] into a 10,000-dimensional vector that would be all 0s except for indices 3 and 5, which would be 1s. \n",
        "\n",
        "Then you could use as the first layer in your network a Dense layer, capable of handling floating-point vector data."
      ]
    },
    {
      "metadata": {
        "id": "lCLRsbmc9oLK",
        "colab_type": "code",
        "colab": {}
      },
      "cell_type": "code",
      "source": [
        "# define the vectorization process as a function\n",
        "def vectorize_reviews(reviews, dimension = 10000):\n",
        "    results = np.zeros((len(reviews), dimension))\n",
        "    for i, review in enumerate(reviews):\n",
        "        results[i, review] = 1.\n",
        "    return results\n",
        "  \n",
        "# vectorize samples\n",
        "vectorized_training_samples = vectorize_reviews(training_samples)\n",
        "vectorized_test_samples = vectorize_reviews(test_samples)\n",
        "\n",
        "# vectorize labels\n",
        "vectorized_training_labels = np.asarray(training_labels).astype('float32')\n",
        "vectorized_test_labels = np.asarray(test_labels).astype('float32')"
      ],
      "execution_count": 0,
      "outputs": []
    },
    {
      "metadata": {
        "id": "v092Rs_MABjg",
        "colab_type": "code",
        "colab": {}
      },
      "cell_type": "code",
      "source": [
        "# print a vectorized sample\n",
        "# print(vectorized_training_samples[0])\n",
        "\n",
        "# create a set from the first review and sort it in ascending order to print the \n",
        "# indices of the terms to compare them with the vectorization\n",
        "first_sample = list(set(list.copy(training_samples[0])))\n",
        "first_sample.sort()\n",
        "print('First 100 sorted term indices in first training sample: ', first_sample[0:100])\n",
        "print('First 100 coordinated of the vectorization of the first training sample: ', vectorized_training_samples[0][0:100,])"
      ],
      "execution_count": 0,
      "outputs": []
    },
    {
      "metadata": {
        "id": "k1A16k-RM9Qn",
        "colab_type": "text"
      },
      "cell_type": "markdown",
      "source": [
        "The input data is vectors, and the labels are scalars (1s and 0s): this is the easiest setup you’ll ever encounter. \n",
        "\n",
        "A type of network that performs well on such a problem is a simple stack of fully connected (Dense) layers with relu activations: Dense(16, activation='relu').\n",
        "\n",
        "The argument being passed to each Dense layer (16) is the number of hidden units of the layer. \n",
        "\n",
        "A hidden unit is a dimension in the representation space of the layer.\n",
        "Each such Dense layer with a relu activation implements the following chain of tensor operations:\n",
        "\n",
        "`output = relu(dot(W, input) + b)`\n",
        "\n",
        "Having 16 hidden units means the weight matrix W will have shape (input_dimension, 16): the dot product with W will project the input data onto a 16-dimensional representation space (and then you’ll add the bias vector b and apply the relu operation). \n",
        "\n",
        "You can intuitively understand the dimensionality of your representation space as “how much freedom you’re allowing the network to have when learning internal representations.” \n",
        "\n",
        "Having more hidden units (a higher-dimensional representation space) allows your network to learn more-complex representations, but it makes the network more computationally expensive and may lead to learning unwanted patterns (patterns that will improve performance on the training data but not on the test data).\n",
        "\n",
        "There are two key architecture decisions to be made about such a stack of Dense layers:\n",
        "\n",
        "*   How many layers to use\n",
        "*   How many hidden units to choose for each layer\n",
        "\n",
        "Later on you’ll learn formal principles to guide you in making these choices. \n",
        "For the time being, let's use the following architecture choice:\n",
        "\n",
        "*   Two intermediate layers with 16 hidden units each\n",
        "*   A third layer that will output the scalar prediction regarding the sentiment of the current review\n",
        "\n",
        "The intermediate layers will use **relu** as their activation function, and the final layer will use a **sigmoid** activation so as to output a probability (a score between 0 and 1, indicating how likely the sample is to have the target “1”: how likely the review is to be positive).\n",
        "\n",
        "Finally, you need to choose a loss function and an optimizer. \n",
        "\n",
        "Because you’re facing a binary classification problem and the output of your network is a probability (you end your network with a single-unit layer with a sigmoid activation), \n",
        "\n",
        "it’s best to use the **binary_crossentropy** loss. It isn’t the only viable choice: you could use, for instance, mean_squared_error. But crossentropy is usually the best choice when you’re dealing with models that output probabilities."
      ]
    },
    {
      "metadata": {
        "id": "k1hpcIKRaU2o",
        "colab_type": "text"
      },
      "cell_type": "markdown",
      "source": [
        "# Neural network topology and optimization"
      ]
    },
    {
      "metadata": {
        "id": "6gF-fh0SMtBi",
        "colab_type": "code",
        "colab": {}
      },
      "cell_type": "code",
      "source": [
        "# create neural network\n",
        "model = models.Sequential()\n",
        "model.add(layers.Dense(16, activation='relu', input_shape=(10000,)))\n",
        "model.add(layers.Dense(16, activation='relu'))\n",
        "model.add(layers.Dense(1, activation='sigmoid'))"
      ],
      "execution_count": 0,
      "outputs": []
    },
    {
      "metadata": {
        "id": "W87sBkSVPoSz",
        "colab_type": "code",
        "colab": {}
      },
      "cell_type": "code",
      "source": [
        "# define optimization process\n",
        "model.compile(\n",
        "    optimizer = optimizers.RMSprop(lr = 0.001), \n",
        "    loss = 'binary_crossentropy', \n",
        "    metrics = ['accuracy']\n",
        ")"
      ],
      "execution_count": 0,
      "outputs": []
    },
    {
      "metadata": {
        "id": "63UsYF28acyR",
        "colab_type": "text"
      },
      "cell_type": "markdown",
      "source": [
        "# Neural network training with validation"
      ]
    },
    {
      "metadata": {
        "id": "DhZpWiIhQuma",
        "colab_type": "text"
      },
      "cell_type": "markdown",
      "source": [
        "In order to monitor during training the accuracy of the model on data it has never seen before, you’ll create a validation set by setting apart 10,000 samples from the original training data.\n"
      ]
    },
    {
      "metadata": {
        "id": "s5K5WvAFQxEM",
        "colab_type": "code",
        "colab": {}
      },
      "cell_type": "code",
      "source": [
        "# slice the sample and labels training data set to accomodate room for a validation\n",
        "# data set\n",
        "vectorized_validation_samples = vectorized_training_samples[:10000]\n",
        "vectorized_partial_training_samples = vectorized_training_samples[10000:]\n",
        "\n",
        "vectorized_validation_labels = vectorized_training_labels[:10000]\n",
        "vectorized_partial_training_labels = vectorized_training_labels[10000:]"
      ],
      "execution_count": 0,
      "outputs": []
    },
    {
      "metadata": {
        "id": "LzM8emrWR2sj",
        "colab_type": "text"
      },
      "cell_type": "markdown",
      "source": [
        "You’ll now train the model for 20 epochs (20 iterations over all samples), in mini-batches of 512 samples. \n",
        "At the same time, you’ll monitor loss and accuracy on the 10,000 samples that you set apart. \n",
        "You do so by passing the validation data as the validation_data argument."
      ]
    },
    {
      "metadata": {
        "id": "zCpgJZO9R81B",
        "colab_type": "code",
        "colab": {}
      },
      "cell_type": "code",
      "source": [
        "history = model.fit(\n",
        "    vectorized_partial_training_samples,\n",
        "    vectorized_partial_training_labels,\n",
        "    epochs = 20, batch_size = 512,\n",
        "    validation_data=(vectorized_validation_samples, vectorized_validation_labels)\n",
        ")"
      ],
      "execution_count": 0,
      "outputs": []
    },
    {
      "metadata": {
        "id": "PgI1MOW3S6xN",
        "colab_type": "text"
      },
      "cell_type": "markdown",
      "source": [
        "At the end of every epoch, there is a slight pause as the model computes its loss and accuracy on the 10,000 samples of the validation data.\n",
        "\n",
        "Note that the call to model.fit() returns a History object. This object has a member history, which is a dictionary containing data about everything that happened during training.\n",
        "\n",
        "The dictionary contains four entries: one per metric that was being monitored during training and during validation. "
      ]
    },
    {
      "metadata": {
        "id": "J4RKlOuTSuV4",
        "colab_type": "code",
        "colab": {}
      },
      "cell_type": "code",
      "source": [
        "history_dict = history.history\n",
        "print('History keys: ', history_dict.keys())\n",
        "print('\\n')\n",
        "\n",
        "# display loss using matplot lib\n",
        "loss_values = history_dict['loss']\n",
        "val_loss_values = history_dict['val_loss']\n",
        "\n",
        "epochs = range(1, len(history_dict['acc']) + 1)\n",
        "\n",
        "plt.plot(epochs, loss_values, 'bo', label = 'Training loss')\n",
        "plt.plot(epochs, val_loss_values, 'b', label = 'Validation loss')\n",
        "plt.title('Training and validation loss')\n",
        "plt.xlabel('Epochs')\n",
        "plt.ylabel('Loss')\n",
        "plt.legend()\n",
        "\n",
        "plt.show()\n",
        "\n",
        "# clear diagram\n",
        "plt.clf()\n",
        "print('\\n')\n",
        "\n",
        "# display accuracy using matplotlib\n",
        "acc = history_dict['acc']\n",
        "val_acc = history_dict['val_acc']\n",
        "\n",
        "plt.plot(epochs, acc, 'bo', label = 'Training acc')\n",
        "plt.plot(epochs, val_acc, 'b', label = 'Validation acc')\n",
        "plt.title('Training and validation accuracy')\n",
        "plt.xlabel('Epochs')\n",
        "plt.ylabel('Loss')\n",
        "plt.legend()\n",
        "\n",
        "plt.show()"
      ],
      "execution_count": 0,
      "outputs": []
    },
    {
      "metadata": {
        "id": "p8XeS_-7VoZ2",
        "colab_type": "text"
      },
      "cell_type": "markdown",
      "source": [
        "As you can see, the training loss decreases with every epoch, and the training accuracy increases with every epoch. \n",
        "\n",
        "That’s what you would expect when running gradient-descent optimization—the quantity you’re trying to minimize should be less with every iteration. \n",
        "\n",
        "But that isn’t the case for the validation loss and accuracy: they seem to peak at the fourth epoch. \n",
        "\n",
        "This is an example of what we warned against earlier: a model that performs better on the training data isn’t necessarily a model that will do better on data it has never seen before. \n",
        "\n",
        "In precise terms, what you’re seeing is **overfitting**: after the second epoch, you’re overoptimizing on the training data, and you end up learning representations that are specific to the training data and don’t generalize to data outside of the training set.\n",
        "\n",
        "In this case, to prevent overfitting, you could stop training after three epochs. In general, you can use a range of techniques to mitigate overfitting.\n",
        "\n",
        "Let’s train a new network from scratch for four epochs and then evaluate it on the test data (loss and accuracy).\n",
        "\n",
        "This fairly naive approach achieves an accuracy of 88%. With state-of-the-art approaches, you should be able to get close to 95%"
      ]
    },
    {
      "metadata": {
        "id": "NVeDocuOatVi",
        "colab_type": "text"
      },
      "cell_type": "markdown",
      "source": [
        "# Neural network training and evaluation"
      ]
    },
    {
      "metadata": {
        "id": "useiu2P_TEzC",
        "colab_type": "code",
        "colab": {}
      },
      "cell_type": "code",
      "source": [
        "model.fit(vectorized_training_samples, vectorized_training_labels, epochs = 4, batch_size = 512)\n",
        "results = model.evaluate(vectorized_test_samples, vectorized_test_labels)\n",
        "print(results)"
      ],
      "execution_count": 0,
      "outputs": []
    },
    {
      "metadata": {
        "id": "mRpFU_3gZAWj",
        "colab_type": "text"
      },
      "cell_type": "markdown",
      "source": [
        "After having trained a network, you’ll want to use it in a practical setting. \n",
        "\n",
        "You can generate the likelihood of reviews being positive by using the predict method.\n",
        "\n",
        "As you can see, the network is confident for some samples (0.99 or more, or 0.01 or less) but less confident for others (0.6, 0.4)."
      ]
    },
    {
      "metadata": {
        "id": "ryo58EWjWPMi",
        "colab_type": "code",
        "colab": {}
      },
      "cell_type": "code",
      "source": [
        "model.predict(vectorized_test_samples)"
      ],
      "execution_count": 0,
      "outputs": []
    },
    {
      "metadata": {
        "id": "xlc4o_ksa5SA",
        "colab_type": "text"
      },
      "cell_type": "markdown",
      "source": [
        "# Further experiments"
      ]
    },
    {
      "metadata": {
        "id": "avRFVcmrZVjD",
        "colab_type": "text"
      },
      "cell_type": "markdown",
      "source": [
        "The following experiments will help convince you that the architecture choices you’ve made are all fairly reasonable, although there’s still room for improvement:\n",
        "\n",
        "1.   You used two hidden layers. Try using one or three hidden layers, and see how doing so affects validation and test accuracy.\n",
        "2.   Try using layers with more hidden units or fewer hidden units: 32 units, 64 units, and so on.\n",
        "3.   Try using the **mse** loss function instead of **binary_crossentropy**.\n",
        "4.   Try using the **tanh** activation (an activation that was popular in the early days of neural networks) instead of **relu**.\n",
        "\n"
      ]
    },
    {
      "metadata": {
        "id": "9BTWzT2mb9lJ",
        "colab_type": "text"
      },
      "cell_type": "markdown",
      "source": [
        "# Wrapping up"
      ]
    },
    {
      "metadata": {
        "id": "SftOcPrQcChf",
        "colab_type": "text"
      },
      "cell_type": "markdown",
      "source": [
        "Here’s what you should take away from this example:\n",
        "\n",
        "*   You usually need to do quite a bit of preprocessing on your raw data in order to be able to feed it—as tensors—into a neural network. Sequences of words can be encoded as binary vectors, but there are other encoding options, too.\n",
        "*   Stacks of Dense layers with relu activations can solve a wide range of problems (including sentiment classification), and you’ll likely use them frequently.\n",
        "*   In a binary classification problem (two output classes), your network should end with a Dense layer with one unit and a sigmoid activation: the output of your network should be a scalar between 0 and 1, encoding a probability.\n",
        "*   With such a scalar sigmoid output on a binary classification problem, the loss function you should use is binary_crossentropy.\n",
        "* .  The rmsprop optimizer is generally a good enough choice, whatever your problem. That’s one less thing for you to worry about.\n",
        "* .  As they get better on their training data, neural networks eventually start overfitting and end up obtaining increasingly worse results on data they’ve never seen before. Be sure to always monitor performance on data that is outside of the training set."
      ]
    }
  ]
}