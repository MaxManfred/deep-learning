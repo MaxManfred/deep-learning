{
  "nbformat": 4,
  "nbformat_minor": 0,
  "metadata": {
    "colab": {
      "name": "Movie_Review_Classification.ipynb",
      "version": "0.3.2",
      "provenance": [],
      "collapsed_sections": [],
      "include_colab_link": true
    },
    "kernelspec": {
      "name": "python3",
      "display_name": "Python 3"
    }
  },
  "cells": [
    {
      "cell_type": "markdown",
      "metadata": {
        "id": "view-in-github",
        "colab_type": "text"
      },
      "source": [
        "<a href=\"https://colab.research.google.com/github/MaxManfred/deep-learning/blob/master/notebooks/Movie_Review_Classification.ipynb\" target=\"_parent\"><img src=\"https://colab.research.google.com/assets/colab-badge.svg\" alt=\"Open In Colab\"/></a>"
      ]
    },
    {
      "metadata": {
        "id": "upKhrOl6BBia",
        "colab_type": "text"
      },
      "cell_type": "markdown",
      "source": [
        "**Two-class classification, or binary classification**, may be the most widely applied kind of machine-learning problem. In this example, you’ll learn to classify movie reviews as positive or negative, based on the text content of the reviews.\n",
        "\n",
        "You’ll work with the IMDB dataset: a set of 50,000 highly polarized reviews from the Internet Movie Database. \n",
        "They’re split into 25,000 reviews for training and 25,000 reviews for testing, each set consisting of 50% negative and 50% positive reviews.\n",
        "Just like the MNIST dataset, the IMDB dataset comes packaged with Keras. It has already been preprocessed: the reviews (sequences of words) have been turned into sequences of integers, where each integer stands for a specific word in a dictionary."
      ]
    },
    {
      "metadata": {
        "id": "6J4XEEgC7VYq",
        "colab_type": "code",
        "colab": {}
      },
      "cell_type": "code",
      "source": [
        "# import needed libraries\n",
        "from keras.datasets import imdb\n",
        "import numpy as np"
      ],
      "execution_count": 0,
      "outputs": []
    },
    {
      "metadata": {
        "id": "Yurc-A-1-ENo",
        "colab_type": "text"
      },
      "cell_type": "markdown",
      "source": [
        "Load IMDB data set in Keras.\n",
        "\n",
        "The argument num_words=10000 means you’ll only keep the top 10,000 most  frequently occurring words in the training data. Rare words will be discarded. \n",
        "This allows you to work with vector data of manageable size.\n",
        "The variables train_data and test_data are lists of reviews; each review is a list of word indices (encoding a sequence of words). \n",
        "train_labels and test_labels are lists of 0s and 1s, where 0 stands for negative and 1 stands for positive: bold text"
      ]
    },
    {
      "metadata": {
        "id": "b0YVdQstBsvf",
        "colab_type": "code",
        "colab": {}
      },
      "cell_type": "code",
      "source": [
        "(training_samples, training_labels), (test_samples, test_labels) = imdb.load_data(num_words=10000)"
      ],
      "execution_count": 0,
      "outputs": []
    },
    {
      "metadata": {
        "id": "-kSrPvuS-uHx",
        "colab_type": "text"
      },
      "cell_type": "markdown",
      "source": [
        "We print the first sample review in the training set and its label.\n",
        "We extract word_index from IMDB: word_index is a dictionary mapping words to an integer index.\n",
        "We then create reverse_word_index which reverses word_index, mapping integer indices to words.\n",
        "Note that the indices are offset by 3 because 0, 1, and 2 are reserved indices for “padding,” “start of sequence,” and “unknown.”.\n",
        "Finally we print the decoded review."
      ]
    },
    {
      "metadata": {
        "id": "K9XFGivy7FhW",
        "colab_type": "code",
        "colab": {
          "base_uri": "https://localhost:8080/",
          "height": 105
        },
        "outputId": "fae21c66-a795-4d29-b248-871dda063c22"
      },
      "cell_type": "code",
      "source": [
        "# Because you’re restricting yourself to the top 10,000 most frequent words, no \n",
        "# word index will exceed 10,000\n",
        "print('Highest index of selected terms in the reviews: ', \n",
        "      max( [max(review) for review in training_samples] ))\n",
        "\n",
        "# as an example, show a sample\n",
        "print('Training sample: ', training_samples[0])\n",
        "print('Training label: ', training_labels[0])\n",
        "\n",
        "word_index = imdb.get_word_index()\n",
        "reverse_word_index = dict([(value, key) for (key, value) in word_index.items()])\n",
        "decoded_review = ' '.join([reverse_word_index.get(i - 3, '?') + '(' + str(i - 3) + ')' for i in training_samples[0]])\n",
        "print('Decoded training sample: ', decoded_review)"
      ],
      "execution_count": 41,
      "outputs": [
        {
          "output_type": "stream",
          "text": [
            "Highest index of selected terms in the reviews:  9999\n",
            "Training sample:  [1, 14, 22, 16, 43, 530, 973, 1622, 1385, 65, 458, 4468, 66, 3941, 4, 173, 36, 256, 5, 25, 100, 43, 838, 112, 50, 670, 2, 9, 35, 480, 284, 5, 150, 4, 172, 112, 167, 2, 336, 385, 39, 4, 172, 4536, 1111, 17, 546, 38, 13, 447, 4, 192, 50, 16, 6, 147, 2025, 19, 14, 22, 4, 1920, 4613, 469, 4, 22, 71, 87, 12, 16, 43, 530, 38, 76, 15, 13, 1247, 4, 22, 17, 515, 17, 12, 16, 626, 18, 2, 5, 62, 386, 12, 8, 316, 8, 106, 5, 4, 2223, 5244, 16, 480, 66, 3785, 33, 4, 130, 12, 16, 38, 619, 5, 25, 124, 51, 36, 135, 48, 25, 1415, 33, 6, 22, 12, 215, 28, 77, 52, 5, 14, 407, 16, 82, 2, 8, 4, 107, 117, 5952, 15, 256, 4, 2, 7, 3766, 5, 723, 36, 71, 43, 530, 476, 26, 400, 317, 46, 7, 4, 2, 1029, 13, 104, 88, 4, 381, 15, 297, 98, 32, 2071, 56, 26, 141, 6, 194, 7486, 18, 4, 226, 22, 21, 134, 476, 26, 480, 5, 144, 30, 5535, 18, 51, 36, 28, 224, 92, 25, 104, 4, 226, 65, 16, 38, 1334, 88, 12, 16, 283, 5, 16, 4472, 113, 103, 32, 15, 16, 5345, 19, 178, 32]\n",
            "Training label:  1\n",
            "Decoded training sample:  ?(-2) this(11) film(19) was(13) just(40) brilliant(527) casting(970) location(1619) scenery(1382) story(62) direction(455) everyone's(4465) really(63) suited(3938) the(1) part(170) they(33) played(253) and(2) you(22) could(97) just(40) imagine(835) being(109) there(47) robert(667) ?(-1) is(6) an(32) amazing(477) actor(281) and(2) now(147) the(1) same(169) being(109) director(164) ?(-1) father(333) came(382) from(36) the(1) same(169) scottish(4533) island(1108) as(14) myself(543) so(35) i(10) loved(444) the(1) fact(189) there(47) was(13) a(3) real(144) connection(2022) with(16) this(11) film(19) the(1) witty(1917) remarks(4610) throughout(466) the(1) film(19) were(68) great(84) it(9) was(13) just(40) brilliant(527) so(35) much(73) that(12) i(10) bought(1244) the(1) film(19) as(14) soon(512) as(14) it(9) was(13) released(623) for(15) ?(-1) and(2) would(59) recommend(383) it(9) to(5) everyone(313) to(5) watch(103) and(2) the(1) fly(2220) fishing(5241) was(13) amazing(477) really(63) cried(3782) at(30) the(1) end(127) it(9) was(13) so(35) sad(616) and(2) you(22) know(121) what(48) they(33) say(132) if(45) you(22) cry(1412) at(30) a(3) film(19) it(9) must(212) have(25) been(74) good(49) and(2) this(11) definitely(404) was(13) also(79) ?(-1) to(5) the(1) two(104) little(114) boy's(5949) that(12) played(253) the(1) ?(-1) of(4) norman(3763) and(2) paul(720) they(33) were(68) just(40) brilliant(527) children(473) are(23) often(397) left(314) out(43) of(4) the(1) ?(-1) list(1026) i(10) think(101) because(85) the(1) stars(378) that(12) play(294) them(95) all(29) grown(2068) up(53) are(23) such(138) a(3) big(191) profile(7483) for(15) the(1) whole(223) film(19) but(18) these(131) children(473) are(23) amazing(477) and(2) should(141) be(27) praised(5532) for(15) what(48) they(33) have(25) done(221) don't(89) you(22) think(101) the(1) whole(223) story(62) was(13) so(35) lovely(1331) because(85) it(9) was(13) true(280) and(2) was(13) someone's(4469) life(110) after(100) all(29) that(12) was(13) shared(5342) with(16) us(175) all(29)\n"
          ],
          "name": "stdout"
        }
      ]
    },
    {
      "metadata": {
        "id": "5XYB2cLY_U5c",
        "colab_type": "text"
      },
      "cell_type": "markdown",
      "source": [
        "You can’t feed lists of integers into a neural network. \n",
        "You have to turn your lists into tensors. \n",
        "One-hot encode your lists to turn them into vectors of 0s and 1s. \n",
        "This would mean, for instance, turning the sequence [3, 5] into a 10,000-dimensional vector that would be all 0s except for indices 3 and 5, which would be 1s. \n",
        "Then you could use as the first layer in your network a Dense layer, capable of handling floating-point vector data."
      ]
    },
    {
      "metadata": {
        "id": "lCLRsbmc9oLK",
        "colab_type": "code",
        "colab": {}
      },
      "cell_type": "code",
      "source": [
        "# define the vectorization process as a function\n",
        "def vectorize_reviews(reviews, dimension = 10000):\n",
        "    results = np.zeros((len(reviews), dimension))\n",
        "    for i, review in enumerate(reviews):\n",
        "        results[i, review] = 1.\n",
        "    return results\n",
        "  \n",
        "# vectorize samples\n",
        "vectorized_training_samples = vectorize_reviews(training_samples)\n",
        "vectorized_test_samples = vectorize_reviews(test_samples)\n",
        "\n",
        "# vectorize labels\n",
        "vectorized_training_labels = np.asarray(training_labels).astype('float32')\n",
        "vectorized_test_labels = np.asarray(test_labels).astype('float32')"
      ],
      "execution_count": 0,
      "outputs": []
    },
    {
      "metadata": {
        "id": "v092Rs_MABjg",
        "colab_type": "code",
        "colab": {
          "base_uri": "https://localhost:8080/",
          "height": 139
        },
        "outputId": "e524702e-207a-4283-9aa3-59717db6d416"
      },
      "cell_type": "code",
      "source": [
        "# print a vectorized sample\n",
        "# print(vectorized_training_samples[0])\n",
        "\n",
        "# create a set from the first review and sort it in ascending order to print the \n",
        "# indices of the terms to compare them with the vectorization\n",
        "first_sample = list(set(list.copy(training_samples[0])))\n",
        "first_sample.sort()\n",
        "print('First 100 sorted term indices in first training sample: ', first_sample[0:100])\n",
        "print('First 100 coordinated of the vectorization of the first training sample: ', vectorized_training_samples[0][0:100,])\n",
        "\n"
      ],
      "execution_count": 60,
      "outputs": [
        {
          "output_type": "stream",
          "text": [
            "First 100 sorted term indices in first training sample:  [1, 2, 4, 5, 6, 7, 8, 9, 12, 13, 14, 15, 16, 17, 18, 19, 21, 22, 25, 26, 28, 30, 32, 33, 35, 36, 38, 39, 43, 46, 48, 50, 51, 52, 56, 62, 65, 66, 71, 76, 77, 82, 87, 88, 92, 98, 100, 103, 104, 106, 107, 112, 113, 117, 124, 130, 134, 135, 141, 144, 147, 150, 167, 172, 173, 178, 192, 194, 215, 224, 226, 256, 283, 284, 297, 316, 317, 336, 381, 385, 386, 400, 407, 447, 458, 469, 476, 480, 515, 530, 546, 619, 626, 670, 723, 838, 973, 1029, 1111, 1247]\n",
            "First 100 coordinated of the vectorization of the first training sample:  [0. 1. 1. 0. 1. 1. 1. 1. 1. 1. 0. 0. 1. 1. 1. 1. 1. 1. 1. 1. 0. 1. 1. 0.\n",
            " 0. 1. 1. 0. 1. 0. 1. 0. 1. 1. 0. 1. 1. 0. 1. 1. 0. 0. 0. 1. 0. 0. 1. 0.\n",
            " 1. 0. 1. 1. 1. 0. 0. 0. 1. 0. 0. 0. 0. 0. 1. 0. 0. 1. 1. 0. 0. 0. 0. 1.\n",
            " 0. 0. 0. 0. 1. 1. 0. 0. 0. 0. 1. 0. 0. 0. 0. 1. 1. 0. 0. 0. 1. 0. 0. 0.\n",
            " 0. 0. 1. 0.]\n"
          ],
          "name": "stdout"
        }
      ]
    },
    {
      "metadata": {
        "id": "k1A16k-RM9Qn",
        "colab_type": "text"
      },
      "cell_type": "markdown",
      "source": [
        "The input data is vectors, and the labels are scalars (1s and 0s): this is the easiest setup you’ll ever encounter. \n",
        "A type of network that performs well on such a problem is a simple stack of fully connected (Dense) layers with relu activations: Dense(16, activation='relu').\n",
        "\n",
        "The argument being passed to each Dense layer (16) is the number of hidden units of the layer. \n",
        "A hidden unit is a dimension in the representation space of the layer.\n",
        "Each such Dense layer with a relu activation implements the following chain of tensor operations:\n",
        "\n",
        "`output = relu(dot(W, input) + b)`\n",
        "\n",
        "Having 16 hidden units means the weight matrix W will have shape (input_dimension, 16): the dot product with W will project the input data onto a 16-dimensional representation space (and then you’ll add the bias vector b and apply the relu operation). You can intuitively understand the dimensionality of your representation space as “how much freedom you’re allowing the network to have when learning internal representations.” \n",
        "Having more hidden units (a higher-dimensional representation space) allows your network to learn more-complex representations, but it makes the network more computationally expensive and may lead to learning unwanted patterns (patterns that will improve performance on the training data but not on the test data).\n",
        "\n",
        "There are two key architecture decisions to be made about such a stack of Dense layers:\n",
        "\n",
        "*   How many layers to use\n",
        "*   How many hidden units to choose for each layer\n",
        "\n",
        "Later on you’ll learn formal principles to guide you in making these choices. \n",
        "For the time being, let's use the following architecture choice:\n",
        "\n",
        "*   Two intermediate layers with 16 hidden units each\n",
        "*   A third layer that will output the scalar prediction regarding the sentiment of the current review\n",
        "\n",
        "The intermediate layers will use **relu** as their activation function, and the final layer will use a **sigmoid** activation so as to output a probability (a score between 0 and 1, indicating how likely the sample is to have the target “1”: how likely the review is to be positive).\n",
        "\n",
        "![alt text](https://drive.google.com/open?id=1ecyoCs1eUZoBkmVf3a1rNjIJH0lPfNQB)"
      ]
    },
    {
      "metadata": {
        "id": "6gF-fh0SMtBi",
        "colab_type": "code",
        "colab": {}
      },
      "cell_type": "code",
      "source": [
        ""
      ],
      "execution_count": 0,
      "outputs": []
    }
  ]
}