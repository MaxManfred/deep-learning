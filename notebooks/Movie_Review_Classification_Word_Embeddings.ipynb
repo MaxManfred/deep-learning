{
  "nbformat": 4,
  "nbformat_minor": 0,
  "metadata": {
    "colab": {
      "name": "Movie_Review_Classification_Word_Embeddings.ipynb",
      "version": "0.3.2",
      "provenance": [],
      "collapsed_sections": [],
      "include_colab_link": true
    },
    "kernelspec": {
      "name": "python3",
      "display_name": "Python 3"
    },
    "accelerator": "GPU"
  },
  "cells": [
    {
      "cell_type": "markdown",
      "metadata": {
        "id": "view-in-github",
        "colab_type": "text"
      },
      "source": [
        "<a href=\"https://colab.research.google.com/github/MaxManfred/deep-learning/blob/master/notebooks/Movie_Review_Classification_Word_Embeddings.ipynb\" target=\"_parent\"><img src=\"https://colab.research.google.com/assets/colab-badge.svg\" alt=\"Open In Colab\"/></a>"
      ]
    },
    {
      "metadata": {
        "id": "WAZxO9uYjcvc",
        "colab_type": "code",
        "colab": {
          "base_uri": "https://localhost:8080/",
          "height": 34
        },
        "outputId": "7e8aa421-eef2-4071-850b-ff0f00048605"
      },
      "cell_type": "code",
      "source": [
        "from keras.datasets import imdb\n",
        "\n",
        "from keras import preprocessing\n",
        "\n",
        "from keras import Sequential\n",
        "\n",
        "from keras.layers import Dense\n",
        "from keras.layers import Embedding\n",
        "from keras.layers import Flatten\n",
        "\n",
        "from keras.optimizers import RMSprop\n",
        "\n",
        "import matplotlib.pyplot as plt"
      ],
      "execution_count": 1,
      "outputs": [
        {
          "output_type": "stream",
          "text": [
            "Using TensorFlow backend.\n"
          ],
          "name": "stderr"
        }
      ]
    },
    {
      "metadata": {
        "id": "6iqkeI9jj9Cc",
        "colab_type": "code",
        "colab": {}
      },
      "cell_type": "code",
      "source": [
        "# number of words to consider as features\n",
        "max_features = 100_000\n",
        "\n",
        "# max review length\n",
        "max_review_length = 1_000\n",
        "\n",
        "# the dimension of the embedding vector space\n",
        "embedding_dimentionality = 16"
      ],
      "execution_count": 0,
      "outputs": []
    },
    {
      "metadata": {
        "id": "cJPu03z-kNEl",
        "colab_type": "code",
        "colab": {}
      },
      "cell_type": "code",
      "source": [
        "# load IMDB data\n",
        "(training_samples, training_labels), (test_samples, test_labels) = imdb.load_data(num_words = max_features)\n",
        "# print(training_samples.shape)\n",
        "# print(test_samples.shape)\n",
        "# print(training_samples[0])"
      ],
      "execution_count": 0,
      "outputs": []
    },
    {
      "metadata": {
        "id": "JceoyXrNkw9x",
        "colab_type": "code",
        "colab": {}
      },
      "cell_type": "code",
      "source": [
        "# turn lists of integers (the reviews are collections of word integers) into 2D tensorsof shape (num_samples, max_review_length)\n",
        "training_samples = preprocessing.sequence.pad_sequences(training_samples, maxlen=max_review_length)\n",
        "# print(training_samples.shape)\n",
        "test_samples = preprocessing.sequence.pad_sequences(test_samples, maxlen=max_review_length)\n",
        "# print(test_samples.shape)"
      ],
      "execution_count": 0,
      "outputs": []
    },
    {
      "metadata": {
        "id": "fvgwK_VBltmt",
        "colab_type": "code",
        "colab": {}
      },
      "cell_type": "code",
      "source": [
        "# create neural network\n",
        "neural_network = Sequential()\n",
        "# create the embedding layers to traing: it will work on \n",
        "# max_features words in total \n",
        "# distributed in reviews of maximum length max_review_length \n",
        "# and will output a tensor of shape (num_samples, max_review_length, embedding_dimentionality)\n",
        "# so taht each word will be represented by a vector of length embedding_dimentionality\n",
        "neural_network.add(Embedding(max_features, embedding_dimentionality, input_length = max_review_length))\n",
        "# this layer will flatten the 3D tensor of shape (num_samples, max_review_length, embedding_dimentionality)\n",
        "# into a 2D tensor of shape (num_samples, max_review_length * embedding_dimentionality)\n",
        "neural_network.add(Flatten())\n",
        "# the add processing layers\n",
        "neural_network.add(Dense(16, activation='relu'))\n",
        "neural_network.add(Dense(16, activation='relu'))\n",
        "neural_network.add(Dense(1, activation='sigmoid'))"
      ],
      "execution_count": 0,
      "outputs": []
    },
    {
      "metadata": {
        "id": "SItd0OLvps_a",
        "colab_type": "code",
        "colab": {}
      },
      "cell_type": "code",
      "source": [
        "# define optimization process\n",
        "neural_network.compile(\n",
        "    optimizer = RMSprop(lr = 0.001), \n",
        "    loss = 'binary_crossentropy', \n",
        "    metrics = ['accuracy']\n",
        ")"
      ],
      "execution_count": 0,
      "outputs": []
    },
    {
      "metadata": {
        "id": "yU2i9zJXpy36",
        "colab_type": "code",
        "colab": {
          "base_uri": "https://localhost:8080/",
          "height": 306
        },
        "outputId": "2fae496b-d3d4-469b-b111-eadd4265a9e7"
      },
      "cell_type": "code",
      "source": [
        "# show neural network architecture\n",
        "neural_network.summary()"
      ],
      "execution_count": 7,
      "outputs": [
        {
          "output_type": "stream",
          "text": [
            "_________________________________________________________________\n",
            "Layer (type)                 Output Shape              Param #   \n",
            "=================================================================\n",
            "embedding_1 (Embedding)      (None, 1000, 16)          1600000   \n",
            "_________________________________________________________________\n",
            "flatten_1 (Flatten)          (None, 16000)             0         \n",
            "_________________________________________________________________\n",
            "dense_1 (Dense)              (None, 16)                256016    \n",
            "_________________________________________________________________\n",
            "dense_2 (Dense)              (None, 16)                272       \n",
            "_________________________________________________________________\n",
            "dense_3 (Dense)              (None, 1)                 17        \n",
            "=================================================================\n",
            "Total params: 1,856,305\n",
            "Trainable params: 1,856,305\n",
            "Non-trainable params: 0\n",
            "_________________________________________________________________\n"
          ],
          "name": "stdout"
        }
      ]
    },
    {
      "metadata": {
        "id": "841IVmQvqkEf",
        "colab_type": "code",
        "colab": {
          "base_uri": "https://localhost:8080/",
          "height": 714
        },
        "outputId": "befe6a8c-fe74-4515-e9c8-e3a9afed6cb4"
      },
      "cell_type": "code",
      "source": [
        "training_history = neural_network.fit(training_samples, training_labels, epochs = 20, batch_size = 512, validation_split = 0.2)\n",
        "\n",
        "neural_network.save_weights('movie_review_word_embeddings.h5')"
      ],
      "execution_count": 12,
      "outputs": [
        {
          "output_type": "stream",
          "text": [
            "Train on 20000 samples, validate on 5000 samples\n",
            "Epoch 1/20\n",
            "20000/20000 [==============================] - 1s 48us/step - loss: 3.4409e-06 - acc: 1.0000 - val_loss: 0.7483 - val_acc: 0.8740\n",
            "Epoch 2/20\n",
            "20000/20000 [==============================] - 1s 42us/step - loss: 4.5138e-06 - acc: 1.0000 - val_loss: 0.7704 - val_acc: 0.8728\n",
            "Epoch 3/20\n",
            "20000/20000 [==============================] - 1s 42us/step - loss: 9.2060e-07 - acc: 1.0000 - val_loss: 0.7948 - val_acc: 0.8704\n",
            "Epoch 4/20\n",
            "20000/20000 [==============================] - 1s 43us/step - loss: 2.5246e-04 - acc: 1.0000 - val_loss: 0.9080 - val_acc: 0.8680\n",
            "Epoch 5/20\n",
            "20000/20000 [==============================] - 1s 43us/step - loss: 1.7840e-06 - acc: 1.0000 - val_loss: 0.8443 - val_acc: 0.8740\n",
            "Epoch 6/20\n",
            "20000/20000 [==============================] - 1s 45us/step - loss: 5.8223e-07 - acc: 1.0000 - val_loss: 0.8309 - val_acc: 0.8738\n",
            "Epoch 7/20\n",
            "20000/20000 [==============================] - 1s 43us/step - loss: 3.4942e-07 - acc: 1.0000 - val_loss: 0.8396 - val_acc: 0.8732\n",
            "Epoch 8/20\n",
            "20000/20000 [==============================] - 1s 43us/step - loss: 2.4434e-07 - acc: 1.0000 - val_loss: 0.8626 - val_acc: 0.8738\n",
            "Epoch 9/20\n",
            "20000/20000 [==============================] - 1s 43us/step - loss: 1.9875e-07 - acc: 1.0000 - val_loss: 0.8958 - val_acc: 0.8728\n",
            "Epoch 10/20\n",
            "20000/20000 [==============================] - 1s 43us/step - loss: 1.4530e-07 - acc: 1.0000 - val_loss: 0.9091 - val_acc: 0.8746\n",
            "Epoch 11/20\n",
            "20000/20000 [==============================] - 1s 44us/step - loss: 9.1038e-06 - acc: 1.0000 - val_loss: 0.9349 - val_acc: 0.8696\n",
            "Epoch 12/20\n",
            "20000/20000 [==============================] - 1s 43us/step - loss: 1.4135e-07 - acc: 1.0000 - val_loss: 0.9314 - val_acc: 0.8710\n",
            "Epoch 13/20\n",
            "20000/20000 [==============================] - 1s 43us/step - loss: 1.2598e-07 - acc: 1.0000 - val_loss: 0.9282 - val_acc: 0.8712\n",
            "Epoch 14/20\n",
            "20000/20000 [==============================] - 1s 43us/step - loss: 1.1871e-07 - acc: 1.0000 - val_loss: 0.9340 - val_acc: 0.8740\n",
            "Epoch 15/20\n",
            "20000/20000 [==============================] - 1s 43us/step - loss: 1.1724e-07 - acc: 1.0000 - val_loss: 0.9402 - val_acc: 0.8730\n",
            "Epoch 16/20\n",
            "20000/20000 [==============================] - 1s 43us/step - loss: 1.2129e-07 - acc: 1.0000 - val_loss: 0.9497 - val_acc: 0.8712\n",
            "Epoch 17/20\n",
            "20000/20000 [==============================] - 1s 43us/step - loss: 1.1281e-07 - acc: 1.0000 - val_loss: 0.9556 - val_acc: 0.8720\n",
            "Epoch 18/20\n",
            "20000/20000 [==============================] - 1s 44us/step - loss: 2.1120e-07 - acc: 1.0000 - val_loss: 0.9742 - val_acc: 0.8734\n",
            "Epoch 19/20\n",
            "20000/20000 [==============================] - 1s 43us/step - loss: 1.1220e-07 - acc: 1.0000 - val_loss: 0.9680 - val_acc: 0.8706\n",
            "Epoch 20/20\n",
            "20000/20000 [==============================] - 1s 43us/step - loss: 1.1114e-07 - acc: 1.0000 - val_loss: 0.9807 - val_acc: 0.8710\n"
          ],
          "name": "stdout"
        }
      ]
    },
    {
      "metadata": {
        "id": "b4PR4tverY57",
        "colab_type": "code",
        "colab": {
          "base_uri": "https://localhost:8080/",
          "height": 820
        },
        "outputId": "ee36cb6d-58fc-4e67-9c4e-40e88a2f064d"
      },
      "cell_type": "code",
      "source": [
        "history_dict = training_history.history\n",
        "print('History keys: ', history_dict.keys())\n",
        "print('\\n')\n",
        "\n",
        "# display loss using matplot lib\n",
        "loss_values = history_dict['loss']\n",
        "val_loss_values = history_dict['val_loss']\n",
        "\n",
        "epochs = range(1, len(history_dict['acc']) + 1)\n",
        "\n",
        "plt.plot(epochs, loss_values, 'bo', label = 'Training loss')\n",
        "plt.plot(epochs, val_loss_values, 'b', label = 'Validation loss')\n",
        "plt.title('Training and validation loss')\n",
        "plt.xlabel('Epochs')\n",
        "plt.ylabel('Loss')\n",
        "plt.legend()\n",
        "\n",
        "plt.show()\n",
        "\n",
        "# clear diagram\n",
        "plt.clf()\n",
        "print('\\n')\n",
        "\n",
        "# display accuracy using matplotlib\n",
        "acc = history_dict['acc']\n",
        "val_acc = history_dict['val_acc']\n",
        "\n",
        "plt.plot(epochs, acc, 'bo', label = 'Training acc')\n",
        "plt.plot(epochs, val_acc, 'b', label = 'Validation acc')\n",
        "plt.title('Training and validation accuracy')\n",
        "plt.xlabel('Epochs')\n",
        "plt.ylabel('Accuracy')\n",
        "plt.legend()\n",
        "\n",
        "plt.show()"
      ],
      "execution_count": 11,
      "outputs": [
        {
          "output_type": "stream",
          "text": [
            "History keys:  dict_keys(['val_loss', 'val_acc', 'loss', 'acc'])\n",
            "\n",
            "\n"
          ],
          "name": "stdout"
        },
        {
          "output_type": "display_data",
          "data": {
            "image/png": "[encoded data removed]",
            "text/plain": [
              "<matplotlib.figure.Figure at 0x7f0313bdf2e8>"
            ]
          },
          "metadata": {
            "tags": []
          }
        },
        {
          "output_type": "stream",
          "text": [
            "\n",
            "\n"
          ],
          "name": "stdout"
        },
        {
          "output_type": "display_data",
          "data": {
            "image/png": "[encoded data removed]",
            "text/plain": [
              "<matplotlib.figure.Figure at 0x7f0313b2dcf8>"
            ]
          },
          "metadata": {
            "tags": []
          }
        }
      ]
    },
    {
      "metadata": {
        "id": "lp3FWo2TrtGw",
        "colab_type": "code",
        "colab": {}
      },
      "cell_type": "code",
      "source": [
        ""
      ],
      "execution_count": 0,
      "outputs": []
    }
  ]
}